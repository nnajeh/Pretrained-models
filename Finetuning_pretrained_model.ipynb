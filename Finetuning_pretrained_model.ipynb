{
  "nbformat": 4,
  "nbformat_minor": 0,
  "metadata": {
    "colab": {
      "name": "Finetuning-pretrained-model.ipynb",
      "provenance": [],
      "collapsed_sections": [],
      "authorship_tag": "ABX9TyPcyv6N/vE24oseg5p+O3kV",
      "include_colab_link": true
    },
    "kernelspec": {
      "name": "python3",
      "display_name": "Python 3"
    },
    "language_info": {
      "name": "python"
    },
    "accelerator": "GPU"
  },
  "cells": [
    {
      "cell_type": "markdown",
      "metadata": {
        "id": "view-in-github",
        "colab_type": "text"
      },
      "source": [
        "<a href=\"https://colab.research.google.com/github/nnajeh/Pretrained-models/blob/main/Finetuning_pretrained_model.ipynb\" target=\"_parent\"><img src=\"https://colab.research.google.com/assets/colab-badge.svg\" alt=\"Open In Colab\"/></a>"
      ]
    },
    {
      "cell_type": "code",
      "metadata": {
        "colab": {
          "base_uri": "https://localhost:8080/"
        },
        "id": "nHD1VK_Qw1BJ",
        "outputId": "c5b2deec-a46b-4f18-afb8-54d7095bb908"
      },
      "source": [
        "#connect to google drive\n",
        "from google.colab import drive\n",
        "drive.mount('/content/drive')"
      ],
      "execution_count": 1,
      "outputs": [
        {
          "output_type": "stream",
          "text": [
            "Mounted at /content/drive\n"
          ],
          "name": "stdout"
        }
      ]
    },
    {
      "cell_type": "code",
      "metadata": {
        "id": "FyL6hbaZwuIB"
      },
      "source": [
        "#Import libraries\n",
        "\n",
        "from __future__ import print_function\n",
        "from __future__ import division\n",
        "import torch\n",
        "import torch.nn as nn\n",
        "import torch.optim as optim\n",
        "import numpy as np\n",
        "import torchvision\n",
        "from torchvision import datasets, models, transforms\n",
        "import matplotlib.pyplot as plt\n",
        "import time\n",
        "import os\n",
        "import copy\n"
      ],
      "execution_count": 2,
      "outputs": []
    },
    {
      "cell_type": "code",
      "metadata": {
        "id": "QO84_e9V0ubw"
      },
      "source": [
        "#Choose the pretrained model\n",
        "model_name = \"resnet\""
      ],
      "execution_count": 3,
      "outputs": []
    },
    {
      "cell_type": "code",
      "metadata": {
        "id": "Qfqb2mVTyNn5"
      },
      "source": [
        "# Data directory\n",
        "data_dir = '/content/drive/MyDrive/ChestX-ray-dataset/NIH'\n",
        "\n",
        "# Number of classes in the dataset\n",
        "num_classes = 13\n",
        "\n",
        "# Batch size for training (change depending on how much memory you have)\n",
        "batch_size = 8\n",
        "\n",
        "# Number of epochs to train for\n",
        "num_epochs = 10\n",
        "\n",
        "# Flag for feature extracting. When False, we finetune the whole model,\n",
        "#   when True we only update the reshaped layer params\n",
        "feature_extract = True\n",
        "\n",
        "#number of epochs\n",
        "epochs =20"
      ],
      "execution_count": 52,
      "outputs": []
    },
    {
      "cell_type": "code",
      "metadata": {
        "id": "nyiWiSG6ymkb"
      },
      "source": [
        "# Data transformation\n",
        "data_transforms = {\n",
        "    'train': transforms.Compose([\n",
        "        transforms.RandomResizedCrop(224),\n",
        "        transforms.RandomHorizontalFlip(),\n",
        "        transforms.ToTensor(),\n",
        "        transforms.Normalize([0.5, 0.5, 0.5], [0.5, 0.5, 0.5])\n",
        "    ]),\n",
        "    'val': transforms.Compose([\n",
        "        transforms.Resize(256),\n",
        "        transforms.CenterCrop(224),\n",
        "        transforms.ToTensor(),\n",
        "        transforms.Normalize([0.5, 0.5, 0.5], [0.5, 0.5, 0.5])\n",
        "    ]),\n",
        "}\n"
      ],
      "execution_count": 41,
      "outputs": []
    },
    {
      "cell_type": "code",
      "metadata": {
        "id": "g1OWp6oNTm2O"
      },
      "source": [
        "image_datasets = {x: datasets.ImageFolder(data_dir, data_transforms[x])\n",
        "                  for x in ['train', 'val']}"
      ],
      "execution_count": 42,
      "outputs": []
    },
    {
      "cell_type": "code",
      "metadata": {
        "colab": {
          "base_uri": "https://localhost:8080/"
        },
        "id": "uT1Dh2ZgTbCd",
        "outputId": "b607bab5-200d-4a77-9270-e53940224017"
      },
      "source": [
        "dataloaders = {x: torch.utils.data.DataLoader(image_datasets[x], batch_size=4,\n",
        "                                             shuffle=True, num_workers=4)\n",
        "              for x in ['train', 'val']}"
      ],
      "execution_count": 44,
      "outputs": [
        {
          "output_type": "stream",
          "text": [
            "/usr/local/lib/python3.7/dist-packages/torch/utils/data/dataloader.py:477: UserWarning: This DataLoader will create 4 worker processes in total. Our suggested max number of worker in current system is 2, which is smaller than what this DataLoader is going to create. Please be aware that excessive worker creation might get DataLoader running slow or even freeze, lower the worker number to avoid potential slowness/freeze if necessary.\n",
            "  cpuset_checked))\n"
          ],
          "name": "stderr"
        }
      ]
    },
    {
      "cell_type": "code",
      "metadata": {
        "id": "QB9JMUetUGO0"
      },
      "source": [
        "dataset_sizes = {x: len(image_datasets[x]) for x in ['train', 'val']}"
      ],
      "execution_count": 45,
      "outputs": []
    },
    {
      "cell_type": "code",
      "metadata": {
        "id": "azMvIUx5UIUc"
      },
      "source": [
        "#class_names = image_datasets['train'].classes"
      ],
      "execution_count": 46,
      "outputs": []
    },
    {
      "cell_type": "code",
      "metadata": {
        "id": "QWxLwqCJQPDm"
      },
      "source": [
        "#Classes name\n",
        "class_names = ['Cardiomegaly', 'Atelectasis', 'Consolidation','Edema','Enlarged Cardiomediastinum','Fracture','Lung Lesion','Lung Opacity','Pleural Effusion','Pneumonia', 'Pneumothorax', 'Pleural Other', 'No Finding']"
      ],
      "execution_count": 74,
      "outputs": []
    },
    {
      "cell_type": "code",
      "metadata": {
        "id": "4z_VHXK_SQSv"
      },
      "source": [
        "# Decide which device we want to run on\n",
        "device = torch.device(\"cuda:0\" if torch.cuda.is_available() else \"cpu\")"
      ],
      "execution_count": 75,
      "outputs": []
    },
    {
      "cell_type": "code",
      "metadata": {
        "id": "RPRxDQk8P-O-"
      },
      "source": [
        "# Visualize a few images\n",
        "def imshow(inp, title=None):\n",
        "    \"\"\"Imshow for Tensor.\"\"\"\n",
        "    inp = inp.numpy().transpose((1, 2, 0))\n",
        "    mean = np.array([0.5, 0.5, 0.5])\n",
        "    std = np.array([0.5, 0.5, 0.5])\n",
        "    inp = std * inp + mean\n",
        "    inp = np.clip(inp, 0, 1)\n",
        "    plt.imshow(inp)\n",
        "    if title is not None:\n",
        "        plt.title(title)\n",
        "    plt.pause(0.001)  # pause a bit so that plots are updated"
      ],
      "execution_count": 76,
      "outputs": []
    },
    {
      "cell_type": "code",
      "metadata": {
        "colab": {
          "base_uri": "https://localhost:8080/",
          "height": 202
        },
        "id": "wD8ySWoXS8QF",
        "outputId": "f7f36480-5bee-4ebf-a544-314977255cdf"
      },
      "source": [
        "\n",
        "# Get a batch of training data\n",
        "inputs, classes = next(iter(dataloaders['train']))\n",
        "\n",
        "# Make a grid from batch\n",
        "out = torchvision.utils.make_grid(inputs)\n",
        "\n",
        "imshow(out, title=[class_names[x] for x in classes])"
      ],
      "execution_count": 77,
      "outputs": [
        {
          "output_type": "stream",
          "text": [
            "/usr/local/lib/python3.7/dist-packages/torch/utils/data/dataloader.py:477: UserWarning: This DataLoader will create 4 worker processes in total. Our suggested max number of worker in current system is 2, which is smaller than what this DataLoader is going to create. Please be aware that excessive worker creation might get DataLoader running slow or even freeze, lower the worker number to avoid potential slowness/freeze if necessary.\n",
            "  cpuset_checked))\n"
          ],
          "name": "stderr"
        },
        {
          "output_type": "display_data",
          "data": {
            "image/png": "[encoded data removed]",
            "text/plain": [
              "<Figure size 432x288 with 1 Axes>"
            ]
          },
          "metadata": {
            "tags": [],
            "needs_background": "light"
          }
        }
      ]
    },
    {
      "cell_type": "code",
      "metadata": {
        "id": "bIsDeHAG08zn"
      },
      "source": [
        "#Train the model\n",
        "def train_model(model, criterion, optimizer, scheduler, num_epochs=epochs):\n",
        "    since = time.time()\n",
        "\n",
        "    best_model_wts = copy.deepcopy(model.state_dict())\n",
        "    best_acc = 0.0\n",
        "\n",
        "    for epoch in range(num_epochs):\n",
        "        print('Epoch {}/{}'.format(epoch, num_epochs - 1))\n",
        "        print('-' * 10)\n",
        "\n",
        "        # Each epoch has a training and validation phase\n",
        "        for phase in ['train', 'val']:\n",
        "            if phase == 'train':\n",
        "                model.train()  # Set model to training mode\n",
        "            else:\n",
        "                model.eval()   # Set model to evaluate mode\n",
        "\n",
        "            running_loss = 0.0\n",
        "            running_corrects = 0\n",
        "\n",
        "            # Iterate over data.\n",
        "            for inputs, labels in dataloaders[phase]:\n",
        "                inputs = inputs.to(device)\n",
        "                labels = labels.to(device)\n",
        "\n",
        "                # zero the parameter gradients\n",
        "                optimizer.zero_grad()\n",
        "\n",
        "                # forward\n",
        "                # track history if only in train\n",
        "                with torch.set_grad_enabled(phase == 'train'):\n",
        "                    outputs = model(inputs)\n",
        "                    _, preds = torch.max(outputs, 1)\n",
        "                    loss = criterion(outputs, labels)\n",
        "\n",
        "                    # backward + optimize only if in training phase\n",
        "                    if phase == 'train':\n",
        "                        loss.backward()\n",
        "                        optimizer.step()\n",
        "\n",
        "                # statistics\n",
        "                running_loss += loss.item() * inputs.size(0)\n",
        "                running_corrects += torch.sum(preds == labels.data)\n",
        "            if phase == 'train':\n",
        "                scheduler.step()\n",
        "\n",
        "            epoch_loss = running_loss / dataset_sizes[phase]\n",
        "            epoch_acc = running_corrects.double() / dataset_sizes[phase]\n",
        "\n",
        "            print('{} Loss: {:.4f} Acc: {:.4f}'.format(\n",
        "                phase, epoch_loss, epoch_acc))\n",
        "\n",
        "            # deep copy the model\n",
        "            if phase == 'val' and epoch_acc > best_acc:\n",
        "                best_acc = epoch_acc\n",
        "                best_model_wts = copy.deepcopy(model.state_dict())\n",
        "\n",
        "        print()\n",
        "\n",
        "    time_elapsed = time.time() - since\n",
        "    print('Training complete in {:.0f}m {:.0f}s'.format(\n",
        "        time_elapsed // 60, time_elapsed % 60))\n",
        "    print('Best val Acc: {:4f}'.format(best_acc))\n",
        "\n",
        "    # load best model weights\n",
        "    model.load_state_dict(best_model_wts)\n",
        "    return model"
      ],
      "execution_count": 78,
      "outputs": []
    },
    {
      "cell_type": "code",
      "metadata": {
        "id": "xpCVXBxWOCSg"
      },
      "source": [
        "#Visualizing the model predictions\n",
        "def visualize_model(model, num_images=6):\n",
        "    was_training = model.training\n",
        "    model.eval()\n",
        "    images_so_far = 0\n",
        "    fig = plt.figure()\n",
        "\n",
        "    with torch.no_grad():\n",
        "        for i, (inputs, labels) in enumerate(dataloaders['val']):\n",
        "            inputs = inputs.to(device)\n",
        "            labels = labels.to(device)\n",
        "\n",
        "            outputs = model(inputs)\n",
        "            _, preds = torch.max(outputs, 1)\n",
        "\n",
        "            for j in range(inputs.size()[0]):\n",
        "                images_so_far += 1\n",
        "                ax = plt.subplot(num_images//2, 2, images_so_far)\n",
        "                ax.axis('off')\n",
        "                ax.set_title('predicted: {}'.format(class_names[preds[j]]))\n",
        "                imshow(inputs.cpu().data[j])\n",
        "\n",
        "                if images_so_far == num_images:\n",
        "                    model.train(mode=was_training)\n",
        "                    return\n",
        "        model.train(mode=was_training)"
      ],
      "execution_count": 79,
      "outputs": []
    },
    {
      "cell_type": "code",
      "metadata": {
        "id": "hjGXvIA3Yjjz"
      },
      "source": [
        "from torch.optim import lr_scheduler "
      ],
      "execution_count": 80,
      "outputs": []
    },
    {
      "cell_type": "code",
      "metadata": {
        "cellView": "form",
        "id": "7xbhwyouZtyw"
      },
      "source": [
        "#@title Finetuning the convnet"
      ],
      "execution_count": null,
      "outputs": []
    },
    {
      "cell_type": "code",
      "metadata": {
        "id": "kehG6jsjXXqx"
      },
      "source": [
        "#Finetuning the convnet\n",
        "model_ft = models.resnet18(pretrained=True)\n",
        "num_ftrs = model_ft.fc.in_features\n",
        "# Here the size of each output sample is set to 2.\n",
        "# Alternatively, it can be generalized to nn.Linear(num_ftrs, len(class_names)).\n",
        "model_ft.fc = nn.Linear(num_ftrs, 2)\n",
        "\n",
        "model_ft = model_ft.to(device)\n",
        "\n",
        "criterion = nn.CrossEntropyLoss()\n",
        "\n",
        "# Observe that all parameters are being optimized\n",
        "optimizer_ft = optim.SGD(model_ft.parameters(), lr=0.001, momentum=0.9)\n",
        "\n",
        "# Decay LR by a factor of 0.1 every 7 epochs\n",
        "exp_lr_scheduler = lr_scheduler.StepLR(optimizer_ft, step_size=7, gamma=0.1)"
      ],
      "execution_count": 81,
      "outputs": []
    },
    {
      "cell_type": "code",
      "metadata": {
        "colab": {
          "base_uri": "https://localhost:8080/"
        },
        "id": "ig5ayf3oYmTA",
        "outputId": "67b7340d-0c27-4ce9-8cc1-0b49a6b7b422"
      },
      "source": [
        "#Train and evaluate\n",
        "model_ft = train_model(model_ft, criterion, optimizer_ft, exp_lr_scheduler,\n",
        "                       num_epochs=epochs)"
      ],
      "execution_count": 82,
      "outputs": [
        {
          "output_type": "stream",
          "text": [
            "Epoch 0/19\n",
            "----------\n"
          ],
          "name": "stdout"
        },
        {
          "output_type": "stream",
          "text": [
            "/usr/local/lib/python3.7/dist-packages/torch/utils/data/dataloader.py:477: UserWarning: This DataLoader will create 4 worker processes in total. Our suggested max number of worker in current system is 2, which is smaller than what this DataLoader is going to create. Please be aware that excessive worker creation might get DataLoader running slow or even freeze, lower the worker number to avoid potential slowness/freeze if necessary.\n",
            "  cpuset_checked))\n"
          ],
          "name": "stderr"
        },
        {
          "output_type": "stream",
          "text": [
            "train Loss: 0.2448 Acc: 0.9466\n",
            "val Loss: 0.2288 Acc: 0.9481\n",
            "\n",
            "Epoch 1/19\n",
            "----------\n",
            "train Loss: 0.2470 Acc: 0.9454\n",
            "val Loss: 0.2279 Acc: 0.9482\n",
            "\n",
            "Epoch 2/19\n",
            "----------\n",
            "train Loss: 0.2368 Acc: 0.9475\n",
            "val Loss: 0.7654 Acc: 0.5953\n",
            "\n",
            "Epoch 3/19\n",
            "----------\n",
            "train Loss: 0.2354 Acc: 0.9470\n",
            "val Loss: 0.2543 Acc: 0.9482\n",
            "\n",
            "Epoch 4/19\n",
            "----------\n",
            "train Loss: 0.2316 Acc: 0.9473\n",
            "val Loss: 0.2239 Acc: 0.9482\n",
            "\n",
            "Epoch 5/19\n",
            "----------\n",
            "train Loss: 0.2240 Acc: 0.9481\n",
            "val Loss: 0.2105 Acc: 0.9482\n",
            "\n",
            "Epoch 6/19\n",
            "----------\n",
            "train Loss: 0.2190 Acc: 0.9475\n",
            "val Loss: 0.2103 Acc: 0.9482\n",
            "\n",
            "Epoch 7/19\n",
            "----------\n",
            "train Loss: 0.2064 Acc: 0.9482\n",
            "val Loss: 0.2044 Acc: 0.9482\n",
            "\n",
            "Epoch 8/19\n",
            "----------\n",
            "train Loss: 0.2051 Acc: 0.9482\n",
            "val Loss: 0.2037 Acc: 0.9482\n",
            "\n",
            "Epoch 9/19\n",
            "----------\n",
            "train Loss: 0.2058 Acc: 0.9482\n",
            "val Loss: 0.2051 Acc: 0.9482\n",
            "\n",
            "Epoch 10/19\n",
            "----------\n",
            "train Loss: 0.2054 Acc: 0.9482\n",
            "val Loss: 0.2032 Acc: 0.9482\n",
            "\n",
            "Epoch 11/19\n",
            "----------\n",
            "train Loss: 0.2043 Acc: 0.9482\n",
            "val Loss: 0.2060 Acc: 0.9482\n",
            "\n",
            "Epoch 12/19\n",
            "----------\n",
            "train Loss: 0.2054 Acc: 0.9482\n",
            "val Loss: 0.2038 Acc: 0.9482\n",
            "\n",
            "Epoch 13/19\n",
            "----------\n",
            "train Loss: 0.2042 Acc: 0.9482\n",
            "val Loss: 0.2145 Acc: 0.9482\n",
            "\n",
            "Epoch 14/19\n",
            "----------\n",
            "train Loss: 0.2040 Acc: 0.9482\n",
            "val Loss: 0.2029 Acc: 0.9482\n",
            "\n",
            "Epoch 15/19\n",
            "----------\n",
            "train Loss: 0.2038 Acc: 0.9482\n",
            "val Loss: 0.2028 Acc: 0.9482\n",
            "\n",
            "Epoch 16/19\n",
            "----------\n",
            "train Loss: 0.2036 Acc: 0.9482\n",
            "val Loss: 0.2029 Acc: 0.9482\n",
            "\n",
            "Epoch 17/19\n",
            "----------\n",
            "train Loss: 0.2043 Acc: 0.9482\n",
            "val Loss: 0.2029 Acc: 0.9482\n",
            "\n",
            "Epoch 18/19\n",
            "----------\n",
            "train Loss: 0.2039 Acc: 0.9482\n",
            "val Loss: 0.2029 Acc: 0.9482\n",
            "\n",
            "Epoch 19/19\n",
            "----------\n",
            "train Loss: 0.2036 Acc: 0.9482\n",
            "val Loss: 0.2030 Acc: 0.9482\n",
            "\n",
            "Training complete in 39m 3s\n",
            "Best val Acc: 0.948193\n"
          ],
          "name": "stdout"
        }
      ]
    },
    {
      "cell_type": "code",
      "metadata": {
        "id": "xkcS3mX0Y45K"
      },
      "source": [
        "#ConvNet as fixed feature extractor\n",
        "model_conv = torchvision.models.resnet18(pretrained=True)\n",
        "for param in model_conv.parameters():\n",
        "    param.requires_grad = False\n",
        "\n",
        "# Parameters of newly constructed modules have requires_grad=True by default\n",
        "num_ftrs = model_conv.fc.in_features\n",
        "model_conv.fc = nn.Linear(num_ftrs, 2)\n",
        "\n",
        "model_conv = model_conv.to(device)\n",
        "\n",
        "criterion = nn.CrossEntropyLoss()\n",
        "\n",
        "# Observe that only parameters of final layer are being optimized as\n",
        "# opposed to before.\n",
        "optimizer_conv = optim.SGD(model_conv.fc.parameters(), lr=0.001, momentum=0.9)\n",
        "\n",
        "# Decay LR by a factor of 0.1 every 7 epochs\n",
        "exp_lr_scheduler = lr_scheduler.StepLR(optimizer_conv, step_size=7, gamma=0.1)\n"
      ],
      "execution_count": 61,
      "outputs": []
    },
    {
      "cell_type": "code",
      "metadata": {
        "colab": {
          "base_uri": "https://localhost:8080/"
        },
        "id": "RarczaX6Z9yg",
        "outputId": "9e329e4d-b6fd-404a-c3a6-c2817a92881e"
      },
      "source": [
        "#\n",
        "model_conv = train_model(model_conv, criterion, optimizer_conv,\n",
        "                         exp_lr_scheduler, num_epochs=20)"
      ],
      "execution_count": 62,
      "outputs": [
        {
          "output_type": "stream",
          "text": [
            "Epoch 0/19\n",
            "----------\n"
          ],
          "name": "stdout"
        },
        {
          "output_type": "stream",
          "text": [
            "/usr/local/lib/python3.7/dist-packages/torch/utils/data/dataloader.py:477: UserWarning: This DataLoader will create 4 worker processes in total. Our suggested max number of worker in current system is 2, which is smaller than what this DataLoader is going to create. Please be aware that excessive worker creation might get DataLoader running slow or even freeze, lower the worker number to avoid potential slowness/freeze if necessary.\n",
            "  cpuset_checked))\n"
          ],
          "name": "stderr"
        },
        {
          "output_type": "stream",
          "text": [
            "train Loss: 0.2419 Acc: 0.9471\n",
            "val Loss: 0.2180 Acc: 0.9482\n",
            "\n",
            "Epoch 1/19\n",
            "----------\n",
            "train Loss: 0.2446 Acc: 0.9467\n",
            "val Loss: 0.2897 Acc: 0.9482\n",
            "\n",
            "Epoch 2/19\n",
            "----------\n",
            "train Loss: 0.2429 Acc: 0.9462\n",
            "val Loss: 0.2158 Acc: 0.9481\n",
            "\n",
            "Epoch 3/19\n",
            "----------\n",
            "train Loss: 0.2399 Acc: 0.9466\n",
            "val Loss: 0.2426 Acc: 0.9482\n",
            "\n",
            "Epoch 4/19\n",
            "----------\n",
            "train Loss: 0.2432 Acc: 0.9465\n",
            "val Loss: 0.2941 Acc: 0.9482\n",
            "\n",
            "Epoch 5/19\n",
            "----------\n",
            "train Loss: 0.2424 Acc: 0.9466\n",
            "val Loss: 0.2582 Acc: 0.9482\n",
            "\n",
            "Epoch 6/19\n",
            "----------\n",
            "train Loss: 0.2421 Acc: 0.9458\n",
            "val Loss: 0.2420 Acc: 0.9412\n",
            "\n",
            "Epoch 7/19\n",
            "----------\n",
            "train Loss: 0.2124 Acc: 0.9482\n",
            "val Loss: 0.2123 Acc: 0.9479\n",
            "\n",
            "Epoch 8/19\n",
            "----------\n",
            "train Loss: 0.2124 Acc: 0.9482\n",
            "val Loss: 0.2102 Acc: 0.9481\n",
            "\n",
            "Epoch 9/19\n",
            "----------\n",
            "train Loss: 0.2105 Acc: 0.9482\n",
            "val Loss: 0.2125 Acc: 0.9482\n",
            "\n",
            "Epoch 10/19\n",
            "----------\n",
            "train Loss: 0.2075 Acc: 0.9482\n",
            "val Loss: 0.2090 Acc: 0.9482\n",
            "\n",
            "Epoch 11/19\n",
            "----------\n",
            "train Loss: 0.2084 Acc: 0.9482\n",
            "val Loss: 0.2077 Acc: 0.9482\n",
            "\n",
            "Epoch 12/19\n",
            "----------\n",
            "train Loss: 0.2062 Acc: 0.9482\n",
            "val Loss: 0.2058 Acc: 0.9482\n",
            "\n",
            "Epoch 13/19\n",
            "----------\n",
            "train Loss: 0.2069 Acc: 0.9482\n",
            "val Loss: 0.2090 Acc: 0.9482\n",
            "\n",
            "Epoch 14/19\n",
            "----------\n",
            "train Loss: 0.2039 Acc: 0.9482\n",
            "val Loss: 0.2054 Acc: 0.9482\n",
            "\n",
            "Epoch 15/19\n",
            "----------\n",
            "train Loss: 0.2030 Acc: 0.9482\n",
            "val Loss: 0.2065 Acc: 0.9482\n",
            "\n",
            "Epoch 16/19\n",
            "----------\n",
            "train Loss: 0.2042 Acc: 0.9482\n",
            "val Loss: 0.2052 Acc: 0.9482\n",
            "\n",
            "Epoch 17/19\n",
            "----------\n",
            "train Loss: 0.2043 Acc: 0.9482\n",
            "val Loss: 0.2079 Acc: 0.9482\n",
            "\n",
            "Epoch 18/19\n",
            "----------\n",
            "train Loss: 0.2048 Acc: 0.9482\n",
            "val Loss: 0.2048 Acc: 0.9482\n",
            "\n",
            "Epoch 19/19\n",
            "----------\n",
            "train Loss: 0.2044 Acc: 0.9482\n",
            "val Loss: 0.2056 Acc: 0.9482\n",
            "\n",
            "Training complete in 35m 14s\n",
            "Best val Acc: 0.948193\n"
          ],
          "name": "stdout"
        }
      ]
    },
    {
      "cell_type": "code",
      "metadata": {
        "id": "E4cJ9bLUvdKv"
      },
      "source": [
        ""
      ],
      "execution_count": null,
      "outputs": []
    }
  ]
}